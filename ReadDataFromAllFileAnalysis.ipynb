{
 "cells": [
  {
   "cell_type": "code",
   "execution_count": 1,
   "id": "96b5dde9",
   "metadata": {},
   "outputs": [],
   "source": [
    "import os\n",
    "import json\n",
    "import pandas as pd"
   ]
  },
  {
   "cell_type": "code",
   "execution_count": 2,
   "id": "43403261",
   "metadata": {},
   "outputs": [],
   "source": [
    "json_files_path = 'D:\\Pooja\\Pandas\\Store Analysis CategoryWise'"
   ]
  },
  {
   "cell_type": "code",
   "execution_count": 3,
   "id": "4d7dc2dc",
   "metadata": {},
   "outputs": [],
   "source": [
    "json_data_list = []"
   ]
  },
  {
   "cell_type": "code",
   "execution_count": 4,
   "id": "d405c071",
   "metadata": {},
   "outputs": [],
   "source": [
    "for filename in os.listdir(json_files_path):\n",
    "    if filename.endswith('.json'):\n",
    "        file_path = os.path.join(json_files_path, filename)\n",
    "        with open(file_path, 'r') as file:\n",
    "            json_data = json.load(file)\n",
    "            json_data_list.append(json_data)"
   ]
  },
  {
   "cell_type": "code",
   "execution_count": 5,
   "id": "1d355a43",
   "metadata": {},
   "outputs": [],
   "source": [
    "data = pd.json_normalize(json_data_list)"
   ]
  },
  {
   "cell_type": "code",
   "execution_count": 6,
   "id": "62b04d69",
   "metadata": {},
   "outputs": [],
   "source": [
    "output_json_file = 'AllData.json'\n",
    "data.to_json(output_json_file, orient='records', lines=True)"
   ]
  },
  {
   "cell_type": "code",
   "execution_count": 7,
   "id": "ae887960",
   "metadata": {},
   "outputs": [],
   "source": [
    "output_json_file = 'AllData.json'\n",
    "with open(output_json_file, 'r') as file:\n",
    "    json_data = [json.loads(line) for line in file]"
   ]
  },
  {
   "cell_type": "code",
   "execution_count": 8,
   "id": "4cdd8eb9",
   "metadata": {},
   "outputs": [
    {
     "data": {
      "text/html": [
       "<div>\n",
       "<style scoped>\n",
       "    .dataframe tbody tr th:only-of-type {\n",
       "        vertical-align: middle;\n",
       "    }\n",
       "\n",
       "    .dataframe tbody tr th {\n",
       "        vertical-align: top;\n",
       "    }\n",
       "\n",
       "    .dataframe thead th {\n",
       "        text-align: right;\n",
       "    }\n",
       "</style>\n",
       "<table border=\"1\" class=\"dataframe\">\n",
       "  <thead>\n",
       "    <tr style=\"text-align: right;\">\n",
       "      <th></th>\n",
       "      <th>Category</th>\n",
       "      <th>Product</th>\n",
       "    </tr>\n",
       "  </thead>\n",
       "  <tbody>\n",
       "    <tr>\n",
       "      <th>0</th>\n",
       "      <td>Home Decor</td>\n",
       "      <td>[FAMILY PHOTO FRAME CORNICE, WHITE MURANO TWIS...</td>\n",
       "    </tr>\n",
       "    <tr>\n",
       "      <th>1</th>\n",
       "      <td>Home Decor</td>\n",
       "      <td>[GLASS CLOCHE LARGE, SMALL WHITE HEART OF WICK...</td>\n",
       "    </tr>\n",
       "    <tr>\n",
       "      <th>2</th>\n",
       "      <td>Home Decor</td>\n",
       "      <td>[FRENCH BLUE METAL DOOR SIGN 0, BOTANICAL ROSE...</td>\n",
       "    </tr>\n",
       "    <tr>\n",
       "      <th>3</th>\n",
       "      <td>Home Decor</td>\n",
       "      <td>[BUNNY WOODEN PAINTED WITH BIRD, BLACK CHERRY ...</td>\n",
       "    </tr>\n",
       "    <tr>\n",
       "      <th>4</th>\n",
       "      <td>Home Decor</td>\n",
       "      <td>[S/3 POT POURI CUSHIONS BLUE COLOURS, PINK/WHI...</td>\n",
       "    </tr>\n",
       "    <tr>\n",
       "      <th>...</th>\n",
       "      <td>...</td>\n",
       "      <td>...</td>\n",
       "    </tr>\n",
       "    <tr>\n",
       "      <th>1831</th>\n",
       "      <td>Cushion Cover</td>\n",
       "      <td>None</td>\n",
       "    </tr>\n",
       "    <tr>\n",
       "      <th>1832</th>\n",
       "      <td>Cushion Cover</td>\n",
       "      <td>None</td>\n",
       "    </tr>\n",
       "    <tr>\n",
       "      <th>1833</th>\n",
       "      <td>Cushion Cover</td>\n",
       "      <td>None</td>\n",
       "    </tr>\n",
       "    <tr>\n",
       "      <th>1834</th>\n",
       "      <td>Cushion Cover</td>\n",
       "      <td>None</td>\n",
       "    </tr>\n",
       "    <tr>\n",
       "      <th>1835</th>\n",
       "      <td>Cushion Cover</td>\n",
       "      <td>[CARD HOLDER LOVE BIRD LARGE ]</td>\n",
       "    </tr>\n",
       "  </tbody>\n",
       "</table>\n",
       "<p>1836 rows × 2 columns</p>\n",
       "</div>"
      ],
      "text/plain": [
       "           Category                                            Product\n",
       "0        Home Decor  [FAMILY PHOTO FRAME CORNICE, WHITE MURANO TWIS...\n",
       "1        Home Decor  [GLASS CLOCHE LARGE, SMALL WHITE HEART OF WICK...\n",
       "2        Home Decor  [FRENCH BLUE METAL DOOR SIGN 0, BOTANICAL ROSE...\n",
       "3        Home Decor  [BUNNY WOODEN PAINTED WITH BIRD, BLACK CHERRY ...\n",
       "4        Home Decor  [S/3 POT POURI CUSHIONS BLUE COLOURS, PINK/WHI...\n",
       "...             ...                                                ...\n",
       "1831  Cushion Cover                                               None\n",
       "1832  Cushion Cover                                               None\n",
       "1833  Cushion Cover                                               None\n",
       "1834  Cushion Cover                                               None\n",
       "1835  Cushion Cover                     [CARD HOLDER LOVE BIRD LARGE ]\n",
       "\n",
       "[1836 rows x 2 columns]"
      ]
     },
     "execution_count": 8,
     "metadata": {},
     "output_type": "execute_result"
    }
   ],
   "source": [
    "df = pd.json_normalize(json_data)\n",
    "df = df.melt(var_name='Category', value_name='Product')\n",
    "df"
   ]
  },
  {
   "cell_type": "code",
   "execution_count": 9,
   "id": "a1926ba7",
   "metadata": {},
   "outputs": [],
   "source": [
    "ExcelFile = \"FinalData.xlsx\"\n",
    "df.to_excel(ExcelFile, index=False)"
   ]
  },
  {
   "cell_type": "code",
   "execution_count": null,
   "id": "d94169c6",
   "metadata": {},
   "outputs": [],
   "source": []
  }
 ],
 "metadata": {
  "kernelspec": {
   "display_name": "Python 3 (ipykernel)",
   "language": "python",
   "name": "python3"
  },
  "language_info": {
   "codemirror_mode": {
    "name": "ipython",
    "version": 3
   },
   "file_extension": ".py",
   "mimetype": "text/x-python",
   "name": "python",
   "nbconvert_exporter": "python",
   "pygments_lexer": "ipython3",
   "version": "3.8.8"
  }
 },
 "nbformat": 4,
 "nbformat_minor": 5
}
