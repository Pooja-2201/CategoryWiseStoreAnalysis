{
 "cells": [
  {
   "cell_type": "code",
   "execution_count": 1,
   "id": "53f734bb",
   "metadata": {},
   "outputs": [],
   "source": [
    "import pandas as pd\n",
    "import json"
   ]
  },
  {
   "cell_type": "code",
   "execution_count": 2,
   "id": "5e338927",
   "metadata": {},
   "outputs": [],
   "source": [
    "file_path = 'CategorySet1.json'\n",
    "with open(file_path, 'r') as json_file:\n",
    "    data = json.load(json_file)"
   ]
  },
  {
   "cell_type": "code",
   "execution_count": 3,
   "id": "e634bfad",
   "metadata": {},
   "outputs": [
    {
     "data": {
      "text/plain": [
       "{'Home Decor': ['FAMILY PHOTO FRAME CORNICE',\n",
       "  'WHITE MURANO TWIST BRACELET',\n",
       "  'OCEAN SCENT CANDLE IN JEWELLED BOX',\n",
       "  'PAPER CHAIN KIT VINTAGE CHRISTMAS',\n",
       "  'MR ROBOT SOFT TOY',\n",
       "  'BLUE ROSE FABRIC MIRROR',\n",
       "  'CHRISTMAS METAL POSTCARD WITH BELLS',\n",
       "  'LE JARDIN BOTANIQUE CUSHION COVER',\n",
       "  'GOLD FLOWER CUSHION COVER',\n",
       "  'PAPER LANTERN 9 POINT HOLLY STAR S',\n",
       "  'DOORSTOP RETROSPOT HEART',\n",
       "  'RED RETROSPOT TRADITIONAL TEAPOT',\n",
       "  'CUBIC MUG FLOCK BLUE ON BROWN'],\n",
       " 'Crafts & Sewing': ['VICTORIAN SEWING KIT',\n",
       "  'PACK 4 FLOWER/BUTTERFLY PATCHES',\n",
       "  'CLASSIC BICYCLE CLIPS',\n",
       "  'SET 12 KIDS COLOUR CHALK STICKS',\n",
       "  'FELT EGG COSY LADYBIRD',\n",
       "  'PAPERWEIGHT CHILDHOOD MEMORIES',\n",
       "  'DROP DIAMANTE EARRINGS PURPLE'],\n",
       " 'Accessories': ['TRAVEL CARD WALLET I LOVE LONDON',\n",
       "  'JUMBO BAG VINTAGE DOILY',\n",
       "  'WINE BOTTLE DRESSING DARK BLUE',\n",
       "  'JUMBO BAG ALPHABET',\n",
       "  'SET/5 RED SPOTTY LID GLASS BOWLS',\n",
       "  'TURQUOISE CRYSTAL+GLASS BRACELET',\n",
       "  'VINTAGE BEAD PINK SHADE',\n",
       "  'BLACK GLASS/SHELL/PEARL NECKLACE',\n",
       "  'SCANDINAVIAN 3 HEARTS NAPKIN RING',\n",
       "  'SLATE TILE NATURAL HANGING'],\n",
       " 'Stationery & Office Supplies': ['WRAP BILLBOARD FONTS DESIGN',\n",
       "  'FLORAL FOLK STATIONERY SET',\n",
       "  'DOTCOM POSTAGE',\n",
       "  'SET 10 CARDS CHRISTMAS TREE 16955'],\n",
       " 'Kitchen & Dining': ['SNACK TRAY RED VINTAGE DOILY',\n",
       "  'FRENCH STYLE STORAGE JAR BONBONS',\n",
       "  'VINTAGE CREAM CAT FOOD CONTAINER',\n",
       "  'PICNIC BOXES SET OF 3 RETROSPOT',\n",
       "  'BLUE GLASS GEMS IN BAG',\n",
       "  'TEA TIME PARTY BUNTING'],\n",
       " 'Home & Living': ['36 FOIL STAR CAKE CASES',\n",
       "  'FRENCH GARDEN SIGN BLUE METAL',\n",
       "  'BATHROOM SCALES, TROPICAL BEACH',\n",
       "  'SANDALWOOD FAN'],\n",
       " 'Toys & Games': [\"POPPY'S PLAYHOUSE BATHROOM\",\n",
       "  'VINTAGE HEADS AND TAILS CARD GAME'],\n",
       " 'Other': ['adjustment']}"
      ]
     },
     "execution_count": 3,
     "metadata": {},
     "output_type": "execute_result"
    }
   ],
   "source": [
    "data"
   ]
  },
  {
   "cell_type": "code",
   "execution_count": 4,
   "id": "c5e4c150",
   "metadata": {},
   "outputs": [],
   "source": [
    "category_dict = {}\n",
    "# Iterate through the given data and populate the dictionary\n",
    "for category, products in data.items():\n",
    "    for product in products:\n",
    "        category_dict[product] = category"
   ]
  },
  {
   "cell_type": "code",
   "execution_count": 5,
   "id": "8dd21ac4",
   "metadata": {},
   "outputs": [
    {
     "data": {
      "text/plain": [
       "{'FAMILY PHOTO FRAME CORNICE': 'Home Decor',\n",
       " 'WHITE MURANO TWIST BRACELET': 'Home Decor',\n",
       " 'OCEAN SCENT CANDLE IN JEWELLED BOX': 'Home Decor',\n",
       " 'PAPER CHAIN KIT VINTAGE CHRISTMAS': 'Home Decor',\n",
       " 'MR ROBOT SOFT TOY': 'Home Decor',\n",
       " 'BLUE ROSE FABRIC MIRROR': 'Home Decor',\n",
       " 'CHRISTMAS METAL POSTCARD WITH BELLS': 'Home Decor',\n",
       " 'LE JARDIN BOTANIQUE CUSHION COVER': 'Home Decor',\n",
       " 'GOLD FLOWER CUSHION COVER': 'Home Decor',\n",
       " 'PAPER LANTERN 9 POINT HOLLY STAR S': 'Home Decor',\n",
       " 'DOORSTOP RETROSPOT HEART': 'Home Decor',\n",
       " 'RED RETROSPOT TRADITIONAL TEAPOT': 'Home Decor',\n",
       " 'CUBIC MUG FLOCK BLUE ON BROWN': 'Home Decor',\n",
       " 'VICTORIAN SEWING KIT': 'Crafts & Sewing',\n",
       " 'PACK 4 FLOWER/BUTTERFLY PATCHES': 'Crafts & Sewing',\n",
       " 'CLASSIC BICYCLE CLIPS': 'Crafts & Sewing',\n",
       " 'SET 12 KIDS COLOUR CHALK STICKS': 'Crafts & Sewing',\n",
       " 'FELT EGG COSY LADYBIRD': 'Crafts & Sewing',\n",
       " 'PAPERWEIGHT CHILDHOOD MEMORIES': 'Crafts & Sewing',\n",
       " 'DROP DIAMANTE EARRINGS PURPLE': 'Crafts & Sewing',\n",
       " 'TRAVEL CARD WALLET I LOVE LONDON': 'Accessories',\n",
       " 'JUMBO BAG VINTAGE DOILY': 'Accessories',\n",
       " 'WINE BOTTLE DRESSING DARK BLUE': 'Accessories',\n",
       " 'JUMBO BAG ALPHABET': 'Accessories',\n",
       " 'SET/5 RED SPOTTY LID GLASS BOWLS': 'Accessories',\n",
       " 'TURQUOISE CRYSTAL+GLASS BRACELET': 'Accessories',\n",
       " 'VINTAGE BEAD PINK SHADE': 'Accessories',\n",
       " 'BLACK GLASS/SHELL/PEARL NECKLACE': 'Accessories',\n",
       " 'SCANDINAVIAN 3 HEARTS NAPKIN RING': 'Accessories',\n",
       " 'SLATE TILE NATURAL HANGING': 'Accessories',\n",
       " 'WRAP BILLBOARD FONTS DESIGN': 'Stationery & Office Supplies',\n",
       " 'FLORAL FOLK STATIONERY SET': 'Stationery & Office Supplies',\n",
       " 'DOTCOM POSTAGE': 'Stationery & Office Supplies',\n",
       " 'SET 10 CARDS CHRISTMAS TREE 16955': 'Stationery & Office Supplies',\n",
       " 'SNACK TRAY RED VINTAGE DOILY': 'Kitchen & Dining',\n",
       " 'FRENCH STYLE STORAGE JAR BONBONS': 'Kitchen & Dining',\n",
       " 'VINTAGE CREAM CAT FOOD CONTAINER': 'Kitchen & Dining',\n",
       " 'PICNIC BOXES SET OF 3 RETROSPOT': 'Kitchen & Dining',\n",
       " 'BLUE GLASS GEMS IN BAG': 'Kitchen & Dining',\n",
       " 'TEA TIME PARTY BUNTING': 'Kitchen & Dining',\n",
       " '36 FOIL STAR CAKE CASES': 'Home & Living',\n",
       " 'FRENCH GARDEN SIGN BLUE METAL': 'Home & Living',\n",
       " 'BATHROOM SCALES, TROPICAL BEACH': 'Home & Living',\n",
       " 'SANDALWOOD FAN': 'Home & Living',\n",
       " \"POPPY'S PLAYHOUSE BATHROOM\": 'Toys & Games',\n",
       " 'VINTAGE HEADS AND TAILS CARD GAME': 'Toys & Games',\n",
       " 'adjustment': 'Other'}"
      ]
     },
     "execution_count": 5,
     "metadata": {},
     "output_type": "execute_result"
    }
   ],
   "source": [
    "category_dict"
   ]
  },
  {
   "cell_type": "code",
   "execution_count": 6,
   "id": "e0901c30",
   "metadata": {},
   "outputs": [
    {
     "data": {
      "text/html": [
       "<div>\n",
       "<style scoped>\n",
       "    .dataframe tbody tr th:only-of-type {\n",
       "        vertical-align: middle;\n",
       "    }\n",
       "\n",
       "    .dataframe tbody tr th {\n",
       "        vertical-align: top;\n",
       "    }\n",
       "\n",
       "    .dataframe thead th {\n",
       "        text-align: right;\n",
       "    }\n",
       "</style>\n",
       "<table border=\"1\" class=\"dataframe\">\n",
       "  <thead>\n",
       "    <tr style=\"text-align: right;\">\n",
       "      <th></th>\n",
       "      <th>Category</th>\n",
       "      <th>Products</th>\n",
       "    </tr>\n",
       "  </thead>\n",
       "  <tbody>\n",
       "    <tr>\n",
       "      <th>0</th>\n",
       "      <td>Home Decor</td>\n",
       "      <td>[FAMILY PHOTO FRAME CORNICE, WHITE MURANO TWIS...</td>\n",
       "    </tr>\n",
       "    <tr>\n",
       "      <th>1</th>\n",
       "      <td>Crafts &amp; Sewing</td>\n",
       "      <td>[VICTORIAN SEWING KIT, PACK 4 FLOWER/BUTTERFLY...</td>\n",
       "    </tr>\n",
       "    <tr>\n",
       "      <th>2</th>\n",
       "      <td>Accessories</td>\n",
       "      <td>[TRAVEL CARD WALLET I LOVE LONDON, JUMBO BAG V...</td>\n",
       "    </tr>\n",
       "    <tr>\n",
       "      <th>3</th>\n",
       "      <td>Stationery &amp; Office Supplies</td>\n",
       "      <td>[WRAP BILLBOARD FONTS DESIGN, FLORAL FOLK STAT...</td>\n",
       "    </tr>\n",
       "    <tr>\n",
       "      <th>4</th>\n",
       "      <td>Kitchen &amp; Dining</td>\n",
       "      <td>[SNACK TRAY RED VINTAGE DOILY, FRENCH STYLE ST...</td>\n",
       "    </tr>\n",
       "    <tr>\n",
       "      <th>5</th>\n",
       "      <td>Home &amp; Living</td>\n",
       "      <td>[36 FOIL STAR CAKE CASES, FRENCH GARDEN SIGN B...</td>\n",
       "    </tr>\n",
       "    <tr>\n",
       "      <th>6</th>\n",
       "      <td>Toys &amp; Games</td>\n",
       "      <td>[POPPY'S PLAYHOUSE BATHROOM, VINTAGE HEADS AND...</td>\n",
       "    </tr>\n",
       "    <tr>\n",
       "      <th>7</th>\n",
       "      <td>Other</td>\n",
       "      <td>[adjustment]</td>\n",
       "    </tr>\n",
       "  </tbody>\n",
       "</table>\n",
       "</div>"
      ],
      "text/plain": [
       "                       Category  \\\n",
       "0                    Home Decor   \n",
       "1               Crafts & Sewing   \n",
       "2                   Accessories   \n",
       "3  Stationery & Office Supplies   \n",
       "4              Kitchen & Dining   \n",
       "5                 Home & Living   \n",
       "6                  Toys & Games   \n",
       "7                         Other   \n",
       "\n",
       "                                            Products  \n",
       "0  [FAMILY PHOTO FRAME CORNICE, WHITE MURANO TWIS...  \n",
       "1  [VICTORIAN SEWING KIT, PACK 4 FLOWER/BUTTERFLY...  \n",
       "2  [TRAVEL CARD WALLET I LOVE LONDON, JUMBO BAG V...  \n",
       "3  [WRAP BILLBOARD FONTS DESIGN, FLORAL FOLK STAT...  \n",
       "4  [SNACK TRAY RED VINTAGE DOILY, FRENCH STYLE ST...  \n",
       "5  [36 FOIL STAR CAKE CASES, FRENCH GARDEN SIGN B...  \n",
       "6  [POPPY'S PLAYHOUSE BATHROOM, VINTAGE HEADS AND...  \n",
       "7                                       [adjustment]  "
      ]
     },
     "execution_count": 6,
     "metadata": {},
     "output_type": "execute_result"
    }
   ],
   "source": [
    "df = pd.DataFrame(data.items(), columns=['Category', 'Products'])\n",
    "df"
   ]
  },
  {
   "cell_type": "code",
   "execution_count": null,
   "id": "5910e076",
   "metadata": {},
   "outputs": [],
   "source": []
  }
 ],
 "metadata": {
  "kernelspec": {
   "display_name": "Python 3 (ipykernel)",
   "language": "python",
   "name": "python3"
  },
  "language_info": {
   "codemirror_mode": {
    "name": "ipython",
    "version": 3
   },
   "file_extension": ".py",
   "mimetype": "text/x-python",
   "name": "python",
   "nbconvert_exporter": "python",
   "pygments_lexer": "ipython3",
   "version": "3.8.8"
  }
 },
 "nbformat": 4,
 "nbformat_minor": 5
}
