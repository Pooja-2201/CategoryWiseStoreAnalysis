{
 "cells": [
  {
   "cell_type": "code",
   "execution_count": 1,
   "id": "53f734bb",
   "metadata": {},
   "outputs": [],
   "source": [
    "import pandas as pd\n",
    "import json"
   ]
  },
  {
   "cell_type": "code",
   "execution_count": 2,
   "id": "5e338927",
   "metadata": {},
   "outputs": [],
   "source": [
    "file_path = 'Category.json'\n",
    "with open(file_path, 'r') as json_file:\n",
    "    data = json.load(json_file)"
   ]
  },
  {
   "cell_type": "code",
   "execution_count": 3,
   "id": "e634bfad",
   "metadata": {},
   "outputs": [
    {
     "data": {
      "text/plain": [
       "{'Accessories': ['SILK PURSE BABUSHKA RED',\n",
       "  'FUSCHIA FLOWER PURSE WITH BEADS',\n",
       "  'TURQUOISE CRYSTAL+GLASS BRACELET'],\n",
       " 'Christmas Decorations': ['RIBBON REEL CHRISTMAS SOCK BAUBLE'],\n",
       " 'Home Furnishings': ['NEWSPAPER STAND'],\n",
       " 'Party Decorations': ['PAPER BUNTING VINTAGE PAISLEY'],\n",
       " 'Fashion': ['RED RETROSPOT SHOPPING BAG'],\n",
       " 'Miscellaneous': ['SAMPLES'],\n",
       " 'Food': ['PACK 3 BOXES CHRISTMAS PANNETONE'],\n",
       " 'Kitchenware': ['ENAMEL BLUE RIM TEA CONTAINER'],\n",
       " 'Home Fragrance': ['ENGLISH ROSE SMALL SCENTED FLOWER'],\n",
       " 'Party Supplies': ['SET/6 COLLAGE PAPER PLATES'],\n",
       " 'Stationery': ['CARD BILLBOARD FONT'],\n",
       " 'Home Decor': ['NUMBER TILE VINTAGE FONT 1',\n",
       "  'BEADED CRYSTAL HEART GREEN LARGE',\n",
       "  'RED VICTORIAN FABRIC OVAL BOX',\n",
       "  'CHERUB HEART DECORATION GOLD',\n",
       "  'WRAP SUMMER ROSE DESIGN',\n",
       "  'OVAL WALL MIRROR DIAMANTE',\n",
       "  'METAL SIGN CUPCAKE SINGLE HOOK',\n",
       "  'ROUND STORAGE TIN VINTAGE LEAF']}"
      ]
     },
     "execution_count": 3,
     "metadata": {},
     "output_type": "execute_result"
    }
   ],
   "source": [
    "data"
   ]
  },
  {
   "cell_type": "code",
   "execution_count": 5,
   "id": "c5e4c150",
   "metadata": {},
   "outputs": [],
   "source": [
    "category_dict = {}\n",
    "# Iterate through the given data and populate the dictionary\n",
    "for category, products in data.items():\n",
    "    for product in products:\n",
    "        category_dict[product] = category"
   ]
  },
  {
   "cell_type": "code",
   "execution_count": 6,
   "id": "8dd21ac4",
   "metadata": {},
   "outputs": [
    {
     "data": {
      "text/plain": [
       "{'SILK PURSE BABUSHKA RED': 'Accessories',\n",
       " 'FUSCHIA FLOWER PURSE WITH BEADS': 'Accessories',\n",
       " 'TURQUOISE CRYSTAL+GLASS BRACELET': 'Accessories',\n",
       " 'RIBBON REEL CHRISTMAS SOCK BAUBLE': 'Christmas Decorations',\n",
       " 'NEWSPAPER STAND': 'Home Furnishings',\n",
       " 'PAPER BUNTING VINTAGE PAISLEY': 'Party Decorations',\n",
       " 'RED RETROSPOT SHOPPING BAG': 'Fashion',\n",
       " 'SAMPLES': 'Miscellaneous',\n",
       " 'PACK 3 BOXES CHRISTMAS PANNETONE': 'Food',\n",
       " 'ENAMEL BLUE RIM TEA CONTAINER': 'Kitchenware',\n",
       " 'ENGLISH ROSE SMALL SCENTED FLOWER': 'Home Fragrance',\n",
       " 'SET/6 COLLAGE PAPER PLATES': 'Party Supplies',\n",
       " 'CARD BILLBOARD FONT': 'Stationery',\n",
       " 'NUMBER TILE VINTAGE FONT 1': 'Home Decor',\n",
       " 'BEADED CRYSTAL HEART GREEN LARGE': 'Home Decor',\n",
       " 'RED VICTORIAN FABRIC OVAL BOX': 'Home Decor',\n",
       " 'CHERUB HEART DECORATION GOLD': 'Home Decor',\n",
       " 'WRAP SUMMER ROSE DESIGN': 'Home Decor',\n",
       " 'OVAL WALL MIRROR DIAMANTE': 'Home Decor',\n",
       " 'METAL SIGN CUPCAKE SINGLE HOOK': 'Home Decor',\n",
       " 'ROUND STORAGE TIN VINTAGE LEAF': 'Home Decor'}"
      ]
     },
     "execution_count": 6,
     "metadata": {},
     "output_type": "execute_result"
    }
   ],
   "source": [
    "category_dict"
   ]
  },
  {
   "cell_type": "code",
   "execution_count": 7,
   "id": "e0901c30",
   "metadata": {},
   "outputs": [
    {
     "data": {
      "text/html": [
       "<div>\n",
       "<style scoped>\n",
       "    .dataframe tbody tr th:only-of-type {\n",
       "        vertical-align: middle;\n",
       "    }\n",
       "\n",
       "    .dataframe tbody tr th {\n",
       "        vertical-align: top;\n",
       "    }\n",
       "\n",
       "    .dataframe thead th {\n",
       "        text-align: right;\n",
       "    }\n",
       "</style>\n",
       "<table border=\"1\" class=\"dataframe\">\n",
       "  <thead>\n",
       "    <tr style=\"text-align: right;\">\n",
       "      <th></th>\n",
       "      <th>Category</th>\n",
       "      <th>Products</th>\n",
       "    </tr>\n",
       "  </thead>\n",
       "  <tbody>\n",
       "    <tr>\n",
       "      <th>0</th>\n",
       "      <td>Accessories</td>\n",
       "      <td>[SILK PURSE BABUSHKA RED, FUSCHIA FLOWER PURSE...</td>\n",
       "    </tr>\n",
       "    <tr>\n",
       "      <th>1</th>\n",
       "      <td>Christmas Decorations</td>\n",
       "      <td>[RIBBON REEL CHRISTMAS SOCK BAUBLE]</td>\n",
       "    </tr>\n",
       "    <tr>\n",
       "      <th>2</th>\n",
       "      <td>Home Furnishings</td>\n",
       "      <td>[NEWSPAPER STAND]</td>\n",
       "    </tr>\n",
       "    <tr>\n",
       "      <th>3</th>\n",
       "      <td>Party Decorations</td>\n",
       "      <td>[PAPER BUNTING VINTAGE PAISLEY]</td>\n",
       "    </tr>\n",
       "    <tr>\n",
       "      <th>4</th>\n",
       "      <td>Fashion</td>\n",
       "      <td>[RED RETROSPOT SHOPPING BAG]</td>\n",
       "    </tr>\n",
       "    <tr>\n",
       "      <th>5</th>\n",
       "      <td>Miscellaneous</td>\n",
       "      <td>[SAMPLES]</td>\n",
       "    </tr>\n",
       "    <tr>\n",
       "      <th>6</th>\n",
       "      <td>Food</td>\n",
       "      <td>[PACK 3 BOXES CHRISTMAS PANNETONE]</td>\n",
       "    </tr>\n",
       "    <tr>\n",
       "      <th>7</th>\n",
       "      <td>Kitchenware</td>\n",
       "      <td>[ENAMEL BLUE RIM TEA CONTAINER]</td>\n",
       "    </tr>\n",
       "    <tr>\n",
       "      <th>8</th>\n",
       "      <td>Home Fragrance</td>\n",
       "      <td>[ENGLISH ROSE SMALL SCENTED FLOWER]</td>\n",
       "    </tr>\n",
       "    <tr>\n",
       "      <th>9</th>\n",
       "      <td>Party Supplies</td>\n",
       "      <td>[SET/6 COLLAGE PAPER PLATES]</td>\n",
       "    </tr>\n",
       "    <tr>\n",
       "      <th>10</th>\n",
       "      <td>Stationery</td>\n",
       "      <td>[CARD BILLBOARD FONT]</td>\n",
       "    </tr>\n",
       "    <tr>\n",
       "      <th>11</th>\n",
       "      <td>Home Decor</td>\n",
       "      <td>[NUMBER TILE VINTAGE FONT 1, BEADED CRYSTAL HE...</td>\n",
       "    </tr>\n",
       "  </tbody>\n",
       "</table>\n",
       "</div>"
      ],
      "text/plain": [
       "                 Category                                           Products\n",
       "0             Accessories  [SILK PURSE BABUSHKA RED, FUSCHIA FLOWER PURSE...\n",
       "1   Christmas Decorations                [RIBBON REEL CHRISTMAS SOCK BAUBLE]\n",
       "2        Home Furnishings                                  [NEWSPAPER STAND]\n",
       "3       Party Decorations                    [PAPER BUNTING VINTAGE PAISLEY]\n",
       "4                 Fashion                       [RED RETROSPOT SHOPPING BAG]\n",
       "5           Miscellaneous                                          [SAMPLES]\n",
       "6                    Food                 [PACK 3 BOXES CHRISTMAS PANNETONE]\n",
       "7             Kitchenware                    [ENAMEL BLUE RIM TEA CONTAINER]\n",
       "8          Home Fragrance                [ENGLISH ROSE SMALL SCENTED FLOWER]\n",
       "9          Party Supplies                       [SET/6 COLLAGE PAPER PLATES]\n",
       "10             Stationery                              [CARD BILLBOARD FONT]\n",
       "11             Home Decor  [NUMBER TILE VINTAGE FONT 1, BEADED CRYSTAL HE..."
      ]
     },
     "execution_count": 7,
     "metadata": {},
     "output_type": "execute_result"
    }
   ],
   "source": [
    "df = pd.DataFrame(data.items(), columns=['Category', 'Products'])\n",
    "df"
   ]
  },
  {
   "cell_type": "code",
   "execution_count": null,
   "id": "5910e076",
   "metadata": {},
   "outputs": [],
   "source": []
  }
 ],
 "metadata": {
  "kernelspec": {
   "display_name": "Python 3 (ipykernel)",
   "language": "python",
   "name": "python3"
  },
  "language_info": {
   "codemirror_mode": {
    "name": "ipython",
    "version": 3
   },
   "file_extension": ".py",
   "mimetype": "text/x-python",
   "name": "python",
   "nbconvert_exporter": "python",
   "pygments_lexer": "ipython3",
   "version": "3.8.8"
  }
 },
 "nbformat": 4,
 "nbformat_minor": 5
}
