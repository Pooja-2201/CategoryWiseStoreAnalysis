{
 "cells": [
  {
   "cell_type": "code",
   "execution_count": 1,
   "id": "0393672d",
   "metadata": {},
   "outputs": [],
   "source": [
    "import pandas as pd\n",
    "import json"
   ]
  },
  {
   "cell_type": "code",
   "execution_count": 2,
   "id": "4cebf81c",
   "metadata": {},
   "outputs": [],
   "source": [
    "file_path = 'Category.json'\n",
    "with open(file_path, 'r') as json_file:\n",
    "    data = json.load(json_file)"
   ]
  },
  {
   "cell_type": "code",
   "execution_count": 3,
   "id": "3bee3959",
   "metadata": {},
   "outputs": [
    {
     "data": {
      "text/plain": [
       "{'Accessories': ['SILK PURSE BABUSHKA RED',\n",
       "  'FUSCHIA FLOWER PURSE WITH BEADS',\n",
       "  'TURQUOISE CRYSTAL+GLASS BRACELET'],\n",
       " 'Christmas Decorations': ['RIBBON REEL CHRISTMAS SOCK BAUBLE'],\n",
       " 'Home Furnishings': ['NEWSPAPER STAND'],\n",
       " 'Party Decorations': ['PAPER BUNTING VINTAGE PAISLEY'],\n",
       " 'Fashion': ['RED RETROSPOT SHOPPING BAG'],\n",
       " 'Miscellaneous': ['SAMPLES'],\n",
       " 'Food': ['PACK 3 BOXES CHRISTMAS PANNETONE'],\n",
       " 'Kitchenware': ['ENAMEL BLUE RIM TEA CONTAINER'],\n",
       " 'Home Fragrance': ['ENGLISH ROSE SMALL SCENTED FLOWER'],\n",
       " 'Party Supplies': ['SET/6 COLLAGE PAPER PLATES'],\n",
       " 'Stationery': ['CARD BILLBOARD FONT'],\n",
       " 'Home Decor': ['NUMBER TILE VINTAGE FONT 1',\n",
       "  'BEADED CRYSTAL HEART GREEN LARGE',\n",
       "  'RED VICTORIAN FABRIC OVAL BOX',\n",
       "  'CHERUB HEART DECORATION GOLD',\n",
       "  'WRAP SUMMER ROSE DESIGN',\n",
       "  'OVAL WALL MIRROR DIAMANTE',\n",
       "  'METAL SIGN CUPCAKE SINGLE HOOK',\n",
       "  'ROUND STORAGE TIN VINTAGE LEAF']}"
      ]
     },
     "execution_count": 3,
     "metadata": {},
     "output_type": "execute_result"
    }
   ],
   "source": [
    "data"
   ]
  },
  {
   "cell_type": "code",
   "execution_count": 4,
   "id": "7d20b285",
   "metadata": {},
   "outputs": [
    {
     "data": {
      "text/plain": [
       "{'SILK PURSE BABUSHKA RED': 'Accessories',\n",
       " 'FUSCHIA FLOWER PURSE WITH BEADS': 'Accessories',\n",
       " 'TURQUOISE CRYSTAL+GLASS BRACELET': 'Accessories',\n",
       " 'RIBBON REEL CHRISTMAS SOCK BAUBLE': 'Christmas Decorations',\n",
       " 'NEWSPAPER STAND': 'Home Furnishings',\n",
       " 'PAPER BUNTING VINTAGE PAISLEY': 'Party Decorations',\n",
       " 'RED RETROSPOT SHOPPING BAG': 'Fashion',\n",
       " 'SAMPLES': 'Miscellaneous',\n",
       " 'PACK 3 BOXES CHRISTMAS PANNETONE': 'Food',\n",
       " 'ENAMEL BLUE RIM TEA CONTAINER': 'Kitchenware',\n",
       " 'ENGLISH ROSE SMALL SCENTED FLOWER': 'Home Fragrance',\n",
       " 'SET/6 COLLAGE PAPER PLATES': 'Party Supplies',\n",
       " 'CARD BILLBOARD FONT': 'Stationery',\n",
       " 'NUMBER TILE VINTAGE FONT 1': 'Home Decor',\n",
       " 'BEADED CRYSTAL HEART GREEN LARGE': 'Home Decor',\n",
       " 'RED VICTORIAN FABRIC OVAL BOX': 'Home Decor',\n",
       " 'CHERUB HEART DECORATION GOLD': 'Home Decor',\n",
       " 'WRAP SUMMER ROSE DESIGN': 'Home Decor',\n",
       " 'OVAL WALL MIRROR DIAMANTE': 'Home Decor',\n",
       " 'METAL SIGN CUPCAKE SINGLE HOOK': 'Home Decor',\n",
       " 'ROUND STORAGE TIN VINTAGE LEAF': 'Home Decor'}"
      ]
     },
     "execution_count": 4,
     "metadata": {},
     "output_type": "execute_result"
    }
   ],
   "source": [
    "category_dict = {}\n",
    "# Iterate through the given data and populate the dictionary\n",
    "for category, products in data.items():\n",
    "    for product in products:\n",
    "        category_dict[product] = category"
   ]
  },
  {
   "cell_type": "code",
   "execution_count": null,
   "id": "7ba1106a",
   "metadata": {},
   "outputs": [],
   "source": [
    "category_dict"
   ]
  },
  {
   "cell_type": "code",
   "execution_count": null,
   "id": "a8797f82",
   "metadata": {},
   "outputs": [],
   "source": []
  }
 ],
 "metadata": {
  "kernelspec": {
   "display_name": "Python 3 (ipykernel)",
   "language": "python",
   "name": "python3"
  },
  "language_info": {
   "codemirror_mode": {
    "name": "ipython",
    "version": 3
   },
   "file_extension": ".py",
   "mimetype": "text/x-python",
   "name": "python",
   "nbconvert_exporter": "python",
   "pygments_lexer": "ipython3",
   "version": "3.8.8"
  }
 },
 "nbformat": 4,
 "nbformat_minor": 5
}
