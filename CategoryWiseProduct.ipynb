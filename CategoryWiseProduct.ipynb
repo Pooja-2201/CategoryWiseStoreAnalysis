{
 "cells": [
  {
   "cell_type": "markdown",
   "id": "5f7e1876",
   "metadata": {},
   "source": [
    "#### Import all libraries"
   ]
  },
  {
   "cell_type": "code",
   "execution_count": 1,
   "id": "a649a1fd",
   "metadata": {},
   "outputs": [],
   "source": [
    "import os\n",
    "import json\n",
    "import pandas as pd\n",
    "import glob\n",
    "import math"
   ]
  },
  {
   "cell_type": "markdown",
   "id": "45e0dcf7",
   "metadata": {},
   "source": [
    "#### Get Data from all json file and put that data in new json File with combined data from all json file."
   ]
  },
  {
   "cell_type": "code",
   "execution_count": 2,
   "id": "ae557d0b",
   "metadata": {},
   "outputs": [],
   "source": [
    "json_files_path = 'D:\\\\Pooja\\\\Pandas\\\\Store Analysis CategoryWise\\\\'\n",
    "json_files = glob.glob(os.path.join(json_files_path, \"*.json\"))"
   ]
  },
  {
   "cell_type": "code",
   "execution_count": 3,
   "id": "da9cee55",
   "metadata": {},
   "outputs": [],
   "source": [
    "all_data = []\n",
    "for file_path in json_files:\n",
    "    with open(file_path, 'r') as json_file:\n",
    "        data = json.load(json_file)\n",
    "        all_data.extend(data.items())"
   ]
  },
  {
   "cell_type": "code",
   "execution_count": 4,
   "id": "9141688c",
   "metadata": {},
   "outputs": [],
   "source": [
    "with open('allData.json', 'w') as output_file:\n",
    "    json.dump(dict(all_data), output_file, indent=2) "
   ]
  },
  {
   "cell_type": "code",
   "execution_count": 5,
   "id": "168a3bc0",
   "metadata": {},
   "outputs": [],
   "source": [
    "excel_file_path = 'Online Retail1.xlsx' \n",
    "df = pd.read_excel(excel_file_path)"
   ]
  },
  {
   "cell_type": "code",
   "execution_count": 6,
   "id": "5b37b16c",
   "metadata": {},
   "outputs": [],
   "source": [
    "with open('allData.json', 'r') as json_file:\n",
    "    category_data = json.load(json_file)"
   ]
  },
  {
   "cell_type": "code",
   "execution_count": 8,
   "id": "e1906a31",
   "metadata": {},
   "outputs": [
    {
     "name": "stdout",
     "output_type": "stream",
     "text": [
      "Category column added to the Excel file.\n"
     ]
    }
   ],
   "source": [
    "#def match_category(description):\n",
    "#    categories = category_data.get(description, [])\n",
    "#    return .join(categories)\n",
    "\n",
    "#df['Category'] = df['Description'].apply(match_category)\n",
    "#excel_file_path = 'Online Retail2.xlsx'\n",
    "#df.to_excel(excel_file_path, index=False)\n",
    "#print(\"Category column added to the Excel file.\")\n",
    "\n",
    "def match_category(item):\n",
    "    return category_data.get(item, \"Others\")\n",
    "df['Category'] = df['Description'].apply(match_category)\n",
    "\n",
    "output_excel_file = 'Online Retail2.xlsx'\n",
    "df.to_excel(output_excel_file, index=False)\n",
    "print(\"Category column added to the Excel file.\")\n"
   ]
  },
  {
   "cell_type": "code",
   "execution_count": null,
   "id": "b5403823",
   "metadata": {},
   "outputs": [],
   "source": []
  },
  {
   "cell_type": "code",
   "execution_count": null,
   "id": "ff38aade",
   "metadata": {},
   "outputs": [],
   "source": []
  },
  {
   "cell_type": "code",
   "execution_count": null,
   "id": "a83e772f",
   "metadata": {},
   "outputs": [],
   "source": []
  }
 ],
 "metadata": {
  "kernelspec": {
   "display_name": "Python 3 (ipykernel)",
   "language": "python",
   "name": "python3"
  },
  "language_info": {
   "codemirror_mode": {
    "name": "ipython",
    "version": 3
   },
   "file_extension": ".py",
   "mimetype": "text/x-python",
   "name": "python",
   "nbconvert_exporter": "python",
   "pygments_lexer": "ipython3",
   "version": "3.8.8"
  }
 },
 "nbformat": 4,
 "nbformat_minor": 5
}
