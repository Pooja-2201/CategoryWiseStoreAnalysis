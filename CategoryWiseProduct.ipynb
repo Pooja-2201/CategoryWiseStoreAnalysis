{
 "cells": [
  {
   "cell_type": "markdown",
   "id": "aeee0c4e",
   "metadata": {},
   "source": [
    "#### Import all libraries"
   ]
  },
  {
   "cell_type": "code",
   "execution_count": 1,
   "id": "93b0863b",
   "metadata": {},
   "outputs": [],
   "source": [
    "import os\n",
    "import json\n",
    "import pandas as pd\n",
    "import glob\n",
    "import math"
   ]
  },
  {
   "cell_type": "markdown",
   "id": "59228296",
   "metadata": {},
   "source": [
    "#### Get Data from all json file and put that data in new json File with combined data from all json file."
   ]
  },
  {
   "cell_type": "code",
   "execution_count": 2,
   "id": "7f71471e",
   "metadata": {},
   "outputs": [],
   "source": [
    "json_files_path = 'D:\\\\Pooja\\\\Pandas\\\\Store Analysis CategoryWise\\\\'\n",
    "json_files = glob.glob(os.path.join(json_files_path, \"*.json\"))"
   ]
  },
  {
   "cell_type": "code",
   "execution_count": 3,
   "id": "1299b651",
   "metadata": {},
   "outputs": [],
   "source": [
    "all_data = []\n",
    "for file_path in json_files:\n",
    "    with open(file_path, 'r') as json_file:\n",
    "        data = json.load(json_file)\n",
    "        all_data.extend(data.items())"
   ]
  },
  {
   "cell_type": "markdown",
   "id": "f840983f",
   "metadata": {},
   "source": [
    "#### Create a Json file with combined data."
   ]
  },
  {
   "cell_type": "code",
   "execution_count": 4,
   "id": "c52693e4",
   "metadata": {},
   "outputs": [],
   "source": [
    "with open('allData.json', 'w') as output_file:\n",
    "    json.dump(dict(all_data), output_file, indent=2) "
   ]
  },
  {
   "cell_type": "markdown",
   "id": "d0705c60",
   "metadata": {},
   "source": [
    "#### Read data from json file and create new Column in excel file called 'Category' put all category according to Description(Product name) for analyse the data."
   ]
  },
  {
   "cell_type": "code",
   "execution_count": 5,
   "id": "7f1412f3",
   "metadata": {},
   "outputs": [],
   "source": [
    "excel_file_path = 'Online Retail.xlsx' \n",
    "df = pd.read_excel(excel_file_path)"
   ]
  },
  {
   "cell_type": "code",
   "execution_count": 6,
   "id": "220c102b",
   "metadata": {},
   "outputs": [],
   "source": [
    "with open('allData.json', 'r') as json_file:\n",
    "    category_data = json.load(json_file)"
   ]
  },
  {
   "cell_type": "code",
   "execution_count": 7,
   "id": "4163d2b2",
   "metadata": {},
   "outputs": [
    {
     "name": "stdout",
     "output_type": "stream",
     "text": [
      "Category column added to the Excel file.\n"
     ]
    }
   ],
   "source": [
    "def match_category(item):\n",
    "    return category_data.get(item, \"Others\")\n",
    "df['Category'] = df['Description'].apply(match_category)\n",
    "\n",
    "output_excel_file = 'Online Retail2.xlsx'\n",
    "df.to_excel(output_excel_file, index=False)\n",
    "print(\"Category column added to the Excel file.\")\n"
   ]
  },
  {
   "cell_type": "markdown",
   "id": "0e5e6359",
   "metadata": {},
   "source": [
    "#### Add Sales Column."
   ]
  },
  {
   "cell_type": "code",
   "execution_count": 8,
   "id": "93a8359f",
   "metadata": {},
   "outputs": [
    {
     "data": {
      "text/html": [
       "<div>\n",
       "<style scoped>\n",
       "    .dataframe tbody tr th:only-of-type {\n",
       "        vertical-align: middle;\n",
       "    }\n",
       "\n",
       "    .dataframe tbody tr th {\n",
       "        vertical-align: top;\n",
       "    }\n",
       "\n",
       "    .dataframe thead th {\n",
       "        text-align: right;\n",
       "    }\n",
       "</style>\n",
       "<table border=\"1\" class=\"dataframe\">\n",
       "  <thead>\n",
       "    <tr style=\"text-align: right;\">\n",
       "      <th></th>\n",
       "      <th>InvoiceNo</th>\n",
       "      <th>StockCode</th>\n",
       "      <th>Description</th>\n",
       "      <th>Quantity</th>\n",
       "      <th>InvoiceDate</th>\n",
       "      <th>UnitPrice</th>\n",
       "      <th>CustomerID</th>\n",
       "      <th>Country</th>\n",
       "      <th>Category</th>\n",
       "      <th>Sales</th>\n",
       "    </tr>\n",
       "  </thead>\n",
       "  <tbody>\n",
       "    <tr>\n",
       "      <th>0</th>\n",
       "      <td>536365</td>\n",
       "      <td>85123A</td>\n",
       "      <td>WHITE HANGING HEART T-LIGHT HOLDER</td>\n",
       "      <td>6</td>\n",
       "      <td>2010-12-01 08:26:00</td>\n",
       "      <td>2.55</td>\n",
       "      <td>17850.0</td>\n",
       "      <td>United Kingdom</td>\n",
       "      <td>T-Light Holders</td>\n",
       "      <td>15.30</td>\n",
       "    </tr>\n",
       "    <tr>\n",
       "      <th>1</th>\n",
       "      <td>536365</td>\n",
       "      <td>71053</td>\n",
       "      <td>WHITE METAL LANTERN</td>\n",
       "      <td>6</td>\n",
       "      <td>2010-12-01 08:26:00</td>\n",
       "      <td>3.39</td>\n",
       "      <td>17850.0</td>\n",
       "      <td>United Kingdom</td>\n",
       "      <td>Lanterns</td>\n",
       "      <td>20.34</td>\n",
       "    </tr>\n",
       "    <tr>\n",
       "      <th>2</th>\n",
       "      <td>536365</td>\n",
       "      <td>84406B</td>\n",
       "      <td>CREAM CUPID HEARTS COAT HANGER</td>\n",
       "      <td>8</td>\n",
       "      <td>2010-12-01 08:26:00</td>\n",
       "      <td>2.75</td>\n",
       "      <td>17850.0</td>\n",
       "      <td>United Kingdom</td>\n",
       "      <td>Coat Hangers</td>\n",
       "      <td>22.00</td>\n",
       "    </tr>\n",
       "    <tr>\n",
       "      <th>3</th>\n",
       "      <td>536365</td>\n",
       "      <td>84029G</td>\n",
       "      <td>KNITTED UNION FLAG HOT WATER BOTTLE</td>\n",
       "      <td>6</td>\n",
       "      <td>2010-12-01 08:26:00</td>\n",
       "      <td>3.39</td>\n",
       "      <td>17850.0</td>\n",
       "      <td>United Kingdom</td>\n",
       "      <td>Hot Water Bottles</td>\n",
       "      <td>20.34</td>\n",
       "    </tr>\n",
       "    <tr>\n",
       "      <th>4</th>\n",
       "      <td>536365</td>\n",
       "      <td>84029E</td>\n",
       "      <td>RED WOOLLY HOTTIE WHITE HEART.</td>\n",
       "      <td>6</td>\n",
       "      <td>2010-12-01 08:26:00</td>\n",
       "      <td>3.39</td>\n",
       "      <td>17850.0</td>\n",
       "      <td>United Kingdom</td>\n",
       "      <td>Hotties</td>\n",
       "      <td>20.34</td>\n",
       "    </tr>\n",
       "    <tr>\n",
       "      <th>...</th>\n",
       "      <td>...</td>\n",
       "      <td>...</td>\n",
       "      <td>...</td>\n",
       "      <td>...</td>\n",
       "      <td>...</td>\n",
       "      <td>...</td>\n",
       "      <td>...</td>\n",
       "      <td>...</td>\n",
       "      <td>...</td>\n",
       "      <td>...</td>\n",
       "    </tr>\n",
       "    <tr>\n",
       "      <th>541904</th>\n",
       "      <td>581587</td>\n",
       "      <td>22613</td>\n",
       "      <td>PACK OF 20 SPACEBOY NAPKINS</td>\n",
       "      <td>12</td>\n",
       "      <td>2011-12-09 12:50:00</td>\n",
       "      <td>0.85</td>\n",
       "      <td>12680.0</td>\n",
       "      <td>France</td>\n",
       "      <td>Outdoor and Travel</td>\n",
       "      <td>10.20</td>\n",
       "    </tr>\n",
       "    <tr>\n",
       "      <th>541905</th>\n",
       "      <td>581587</td>\n",
       "      <td>22899</td>\n",
       "      <td>CHILDREN'S APRON DOLLY GIRL</td>\n",
       "      <td>6</td>\n",
       "      <td>2011-12-09 12:50:00</td>\n",
       "      <td>2.10</td>\n",
       "      <td>12680.0</td>\n",
       "      <td>France</td>\n",
       "      <td>Others</td>\n",
       "      <td>12.60</td>\n",
       "    </tr>\n",
       "    <tr>\n",
       "      <th>541906</th>\n",
       "      <td>581587</td>\n",
       "      <td>23254</td>\n",
       "      <td>CHILDRENS CUTLERY DOLLY GIRL</td>\n",
       "      <td>4</td>\n",
       "      <td>2011-12-09 12:50:00</td>\n",
       "      <td>4.15</td>\n",
       "      <td>12680.0</td>\n",
       "      <td>France</td>\n",
       "      <td>Others</td>\n",
       "      <td>16.60</td>\n",
       "    </tr>\n",
       "    <tr>\n",
       "      <th>541907</th>\n",
       "      <td>581587</td>\n",
       "      <td>23255</td>\n",
       "      <td>CHILDRENS CUTLERY CIRCUS PARADE</td>\n",
       "      <td>4</td>\n",
       "      <td>2011-12-09 12:50:00</td>\n",
       "      <td>4.15</td>\n",
       "      <td>12680.0</td>\n",
       "      <td>France</td>\n",
       "      <td>Others</td>\n",
       "      <td>16.60</td>\n",
       "    </tr>\n",
       "    <tr>\n",
       "      <th>541908</th>\n",
       "      <td>581587</td>\n",
       "      <td>22138</td>\n",
       "      <td>BAKING SET 9 PIECE RETROSPOT</td>\n",
       "      <td>3</td>\n",
       "      <td>2011-12-09 12:50:00</td>\n",
       "      <td>4.95</td>\n",
       "      <td>12680.0</td>\n",
       "      <td>France</td>\n",
       "      <td>Others</td>\n",
       "      <td>14.85</td>\n",
       "    </tr>\n",
       "  </tbody>\n",
       "</table>\n",
       "<p>541909 rows × 10 columns</p>\n",
       "</div>"
      ],
      "text/plain": [
       "       InvoiceNo StockCode                          Description  Quantity  \\\n",
       "0         536365    85123A   WHITE HANGING HEART T-LIGHT HOLDER         6   \n",
       "1         536365     71053                  WHITE METAL LANTERN         6   \n",
       "2         536365    84406B       CREAM CUPID HEARTS COAT HANGER         8   \n",
       "3         536365    84029G  KNITTED UNION FLAG HOT WATER BOTTLE         6   \n",
       "4         536365    84029E       RED WOOLLY HOTTIE WHITE HEART.         6   \n",
       "...          ...       ...                                  ...       ...   \n",
       "541904    581587     22613          PACK OF 20 SPACEBOY NAPKINS        12   \n",
       "541905    581587     22899         CHILDREN'S APRON DOLLY GIRL          6   \n",
       "541906    581587     23254        CHILDRENS CUTLERY DOLLY GIRL          4   \n",
       "541907    581587     23255      CHILDRENS CUTLERY CIRCUS PARADE         4   \n",
       "541908    581587     22138        BAKING SET 9 PIECE RETROSPOT          3   \n",
       "\n",
       "               InvoiceDate  UnitPrice  CustomerID         Country  \\\n",
       "0      2010-12-01 08:26:00       2.55     17850.0  United Kingdom   \n",
       "1      2010-12-01 08:26:00       3.39     17850.0  United Kingdom   \n",
       "2      2010-12-01 08:26:00       2.75     17850.0  United Kingdom   \n",
       "3      2010-12-01 08:26:00       3.39     17850.0  United Kingdom   \n",
       "4      2010-12-01 08:26:00       3.39     17850.0  United Kingdom   \n",
       "...                    ...        ...         ...             ...   \n",
       "541904 2011-12-09 12:50:00       0.85     12680.0          France   \n",
       "541905 2011-12-09 12:50:00       2.10     12680.0          France   \n",
       "541906 2011-12-09 12:50:00       4.15     12680.0          France   \n",
       "541907 2011-12-09 12:50:00       4.15     12680.0          France   \n",
       "541908 2011-12-09 12:50:00       4.95     12680.0          France   \n",
       "\n",
       "                  Category  Sales  \n",
       "0          T-Light Holders  15.30  \n",
       "1                 Lanterns  20.34  \n",
       "2             Coat Hangers  22.00  \n",
       "3        Hot Water Bottles  20.34  \n",
       "4                  Hotties  20.34  \n",
       "...                    ...    ...  \n",
       "541904  Outdoor and Travel  10.20  \n",
       "541905              Others  12.60  \n",
       "541906              Others  16.60  \n",
       "541907              Others  16.60  \n",
       "541908              Others  14.85  \n",
       "\n",
       "[541909 rows x 10 columns]"
      ]
     },
     "execution_count": 8,
     "metadata": {},
     "output_type": "execute_result"
    }
   ],
   "source": [
    "df['Sales'] = df['Quantity'] * df['UnitPrice']\n",
    "df"
   ]
  },
  {
   "cell_type": "markdown",
   "id": "de4db91d",
   "metadata": {},
   "source": [
    "#### All category name used for analysis."
   ]
  },
  {
   "cell_type": "code",
   "execution_count": 9,
   "id": "fd3b3f2b",
   "metadata": {
    "scrolled": true
   },
   "outputs": [
    {
     "data": {
      "text/plain": [
       "array(['T-Light Holders', 'Lanterns', 'Coat Hangers', 'Hot Water Bottles',\n",
       "       'Hotties', 'Home Decor', 'Hand Warmers & Heat Packs',\n",
       "       'Hand Warmers', 'Ornaments', 'Others', 'Playhouses', 'Dolls',\n",
       "       'Kitchenware', 'Miscellaneous', 'Kitchen Accessories',\n",
       "       'Kitchen and Dining', 'Coat Racks & Hooks', 'Clocks', 'Stationery',\n",
       "       'Kitchen Supplies', 'Bags and Accessories', 'Fashion', 'Mugs',\n",
       "       'Cabinets', 'Frames', 'Sewing', 'Bags', 'Kitchen',\n",
       "       'Kitchen & Dining', 'Accessories', 'Gifts and Novelties',\n",
       "       'Parasols', 'Gifts & Souvenirs', 'Umbrella', 'Toys & Games',\n",
       "       'Home & Living', 'Crafts and Games', 'Party Supplies',\n",
       "       'Sewing & Crafts', 'Bags & Purses', 'Photo Frames', 'Decorations',\n",
       "       'Metal Signs', 'Doormats', 'Candles', 'Christmas Decorations',\n",
       "       'Bathroom Accessories', \"Kids' Items\", 'Jewelry and Accessories',\n",
       "       'Other', 'Fashion & Accessories', 'Christmas & Holidays',\n",
       "       'Stationery & Craft', 'Crafts & Toys', 'Cards', 'Kids & Toys',\n",
       "       'Bracelets and Charms', 'Candle and Scented Products',\n",
       "       'Cake Accessories', 'Gift Boxes', 'Craft Kits',\n",
       "       'Garden and Outdoor', 'Textiles', 'Napkin & Table Accessories',\n",
       "       'Storage and Organization', 'Gifts & Novelties', 'Christmas',\n",
       "       'Art and Craft Supplies', 'FLAG', 'Stationary', 'Bags and Totes',\n",
       "       'Kitchen & Home Utility', 'Toy', 'Stationery Set',\n",
       "       'Greeting Cards', 'Crafts and Hobby', 'Wash Bags & Toiletries',\n",
       "       'Tableware & Dining', 'Kids and Toys', 'Crafts & Sewing',\n",
       "       'Bag Charms', 'Bracelets', 'Earrings', 'Hair Accessories',\n",
       "       'Key Rings', 'Notebooks', 'Toys', 'Purses', 'Cosmetics Bag',\n",
       "       'Home Decor & Art', 'Jewelry', 'Childhood Memory', 'Art and Decor',\n",
       "       'Fashion and Accessories', 'Home and Living', 'Stickers & Labels',\n",
       "       'Wall Art', 'Incense', 'Bags and Backpacks', 'Toys & Gifts',\n",
       "       'Office Supplies', 'Craft and DIY', 'Jewelry & Necklaces', 'Kids',\n",
       "       'Outdoor and Garden', 'Jewelry & Accessories', 'Candle Holders',\n",
       "       \"Children's Items\", 'Home & Garden', 'Gifts & Accessories',\n",
       "       'Christmas Decor', 'Outdoor and Travel', 'Gifts and Decorations',\n",
       "       'Fashion Accessories', 'Samples', 'Canvas Art', 'Fees',\n",
       "       'Keychains & Accessories', 'Scissors', 'Gifts', 'Easter Products',\n",
       "       'Dog Bowl', 'Gift Wraps', 'Bags and Purses', 'Easter Decorations',\n",
       "       'Lights and Lamps', 'Table Clock', 'Seasonal & Holiday',\n",
       "       'Seasonal', 'Sunglasses', 'Beauty & Accessories', 'Home Fragrance',\n",
       "       'Thrown Away', 'Doormat', 'Unknown', 'Soap and Bath Accessories',\n",
       "       'Party & Events', 'Gardening', 'Uncategorized', 'Damaged Items',\n",
       "       'Hanging Decorations', 'Wooden Decorations', 'Vintage Items',\n",
       "       'Storage Tins', 'Doilies', 'Umbrella Stand', 'Picnic Basket',\n",
       "       'Ceramic Decorations', 'Necklace', 'Kitchen Items', 'Enamel Items',\n",
       "       'Table Lamps', 'Notepads and Lists', 'Apothecary Items',\n",
       "       'Doorknobs', 'Drawer and Cabinet Knobs', 'Storage and Containers',\n",
       "       'Decor and Ornaments', 'Accessories and Charms',\n",
       "       'Gift and Wrapping', 'Household', 'Cushions & Covers',\n",
       "       'Art Supplies', 'Craft Supplies', 'Cushion Cover', 'Lighting',\n",
       "       'Craft & DIY Supplies', 'Uncategorizable/Unknown'], dtype=object)"
      ]
     },
     "execution_count": 9,
     "metadata": {},
     "output_type": "execute_result"
    }
   ],
   "source": [
    "categories = df['Category'].unique()\n",
    "categories"
   ]
  },
  {
   "cell_type": "markdown",
   "id": "4737c7a8",
   "metadata": {},
   "source": [
    "#### Which category has the highest Product."
   ]
  },
  {
   "cell_type": "code",
   "execution_count": 10,
   "id": "5d6b06f5",
   "metadata": {},
   "outputs": [
    {
     "data": {
      "text/plain": [
       "'Others'"
      ]
     },
     "execution_count": 10,
     "metadata": {},
     "output_type": "execute_result"
    }
   ],
   "source": [
    "category_product_counts = df['Category'].value_counts()\n",
    "highest_product_category = category_product_counts.idxmax()\n",
    "highest_product_category"
   ]
  },
  {
   "cell_type": "markdown",
   "id": "da385a1c",
   "metadata": {},
   "source": [
    "#### Total Sales for 'Others' Category."
   ]
  },
  {
   "cell_type": "code",
   "execution_count": 11,
   "id": "70084838",
   "metadata": {},
   "outputs": [
    {
     "data": {
      "text/plain": [
       "3962869.5710000005"
      ]
     },
     "execution_count": 11,
     "metadata": {},
     "output_type": "execute_result"
    }
   ],
   "source": [
    "total_sales_others = df.loc[df['Category'] == 'Others', 'Sales'].sum()\n",
    "total_sales_others"
   ]
  },
  {
   "cell_type": "markdown",
   "id": "c34addbe",
   "metadata": {},
   "source": [
    "#### Highest Sold Product."
   ]
  },
  {
   "cell_type": "code",
   "execution_count": 12,
   "id": "51a76c4d",
   "metadata": {},
   "outputs": [
    {
     "data": {
      "text/plain": [
       "'WHITE HANGING HEART T-LIGHT HOLDER'"
      ]
     },
     "execution_count": 12,
     "metadata": {},
     "output_type": "execute_result"
    }
   ],
   "source": [
    "category_product_counts = df['Description'].value_counts()\n",
    "highest_product_category = category_product_counts.idxmax()\n",
    "highest_product_category\n"
   ]
  },
  {
   "cell_type": "markdown",
   "id": "a715b8f3",
   "metadata": {},
   "source": [
    "#### Highest product sold in United Kingdom"
   ]
  },
  {
   "cell_type": "code",
   "execution_count": 13,
   "id": "57f982d8",
   "metadata": {},
   "outputs": [
    {
     "data": {
      "text/plain": [
       "'DOTCOM POSTAGE'"
      ]
     },
     "execution_count": 13,
     "metadata": {},
     "output_type": "execute_result"
    }
   ],
   "source": [
    "df_uk = df[df['Country'] == 'United Kingdom']\n",
    "product_sales = df_uk.groupby('Description')['Sales'].sum()\n",
    "highest_selling_product_uk = product_sales.idxmax()\n",
    "highest_selling_product_uk"
   ]
  },
  {
   "cell_type": "code",
   "execution_count": null,
   "id": "b4c08721",
   "metadata": {},
   "outputs": [],
   "source": []
  },
  {
   "cell_type": "code",
   "execution_count": null,
   "id": "70faef0f",
   "metadata": {},
   "outputs": [],
   "source": []
  }
 ],
 "metadata": {
  "kernelspec": {
   "display_name": "Python 3 (ipykernel)",
   "language": "python",
   "name": "python3"
  },
  "language_info": {
   "codemirror_mode": {
    "name": "ipython",
    "version": 3
   },
   "file_extension": ".py",
   "mimetype": "text/x-python",
   "name": "python",
   "nbconvert_exporter": "python",
   "pygments_lexer": "ipython3",
   "version": "3.8.8"
  }
 },
 "nbformat": 4,
 "nbformat_minor": 5
}
